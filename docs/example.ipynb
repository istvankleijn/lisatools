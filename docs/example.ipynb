{
    "cells": [
        {
            "cell_type": "markdown",
            "metadata": {},
            "source": [
                "# Example usage\n",
                "\n",
                "To use `lisatools` in a project:"
            ]
        },
        {
            "cell_type": "code",
            "execution_count": 1,
            "metadata": {},
            "outputs": [],
            "source": [
                "import lisatools"
            ]
        },
        {
            "cell_type": "markdown",
            "metadata": {},
            "source": [
                "Standard library packages required to run this notebook:"
            ]
        },
        {
            "cell_type": "code",
            "execution_count": 2,
            "metadata": {},
            "outputs": [],
            "source": [
                "import copy\n",
                "import datetime"
            ]
        },
        {
            "cell_type": "markdown",
            "metadata": {},
            "source": [
                "The `Fund` class stores general details about funds, such as their unique\n",
                "ISIN identifier, the price, and the date the price was last updated."
            ]
        },
        {
            "cell_type": "code",
            "execution_count": 3,
            "metadata": {},
            "outputs": [
                {
                    "name": "stdout",
                    "output_type": "stream",
                    "text": [
                        "Fund('FTSE Global All Cap Index Fund', 172.14, date=datetime.date(2022, 11, 21), isin='GB00BD3RZ582')\n"
                    ]
                }
            ],
            "source": [
                "ftse_global = lisatools.Fund(\n",
                "    \"FTSE Global All Cap Index Fund\",\n",
                "    172.14,\n",
                "    isin=\"GB00BD3RZ582\",\n",
                "    date=datetime.date(2022, 11, 21)\n",
                ")\n",
                "print(ftse_global)"
            ]
        },
        {
            "cell_type": "markdown",
            "metadata": {},
            "source": [
                "The `Portfolio` class represents the funds actually being held. Each line item\n",
                "in the portfolio is represented as a `Holding`, and stores the fund details,\n",
                "the number of units held, and the target allocation fraction."
            ]
        },
        {
            "cell_type": "code",
            "execution_count": 13,
            "metadata": {},
            "outputs": [
                {
                    "name": "stdout",
                    "output_type": "stream",
                    "text": [
                        "Description                       Units    Value Target ISIN         Date\n",
                        "------------------------------ -------- -------- ------ ------------ ----------\n",
                        "FTSE Global All Cap Index Fund   1.0000   172.14 0.6000 GB00BD3RZ582 2022-11-21\n",
                        "U.K. Gilt UCITS ETF (VGOV)       5.0000    92.90 0.4000 IE00B42WWV65 2022-11-21\n"
                    ]
                }
            ],
            "source": [
                "gilts = lisatools.Fund(\n",
                "    \"U.K. Gilt UCITS ETF (VGOV)\",\n",
                "    18.58,\n",
                "    isin=\"IE00B42WWV65\",\n",
                "    date=datetime.date(2022, 11, 21)\n",
                ")\n",
                "holding1 = lisatools.Holding(ftse_global, 1.0, 0.6)\n",
                "holding2 = lisatools.Holding(gilts, 5.0, 0.4)\n",
                "pf = lisatools.Portfolio([holding1, holding2])\n",
                "print(pf)"
            ]
        },
        {
            "cell_type": "markdown",
            "metadata": {},
            "source": [
                "The total value of a holding is equal to the number of units held times the unit price."
            ]
        },
        {
            "cell_type": "code",
            "execution_count": 14,
            "metadata": {},
            "outputs": [
                {
                    "data": {
                        "text/plain": [
                            "6.0"
                        ]
                    },
                    "execution_count": 14,
                    "metadata": {},
                    "output_type": "execute_result"
                }
            ],
            "source": [
                "f = lisatools.Fund(price = 2.0)\n",
                "h = lisatools.Holding(f, units = 3.0)\n",
                "\n",
                "h.value()"
            ]
        },
        {
            "cell_type": "markdown",
            "metadata": {},
            "source": [
                "The example portfolio above requires some trades to be made in order to reach\n",
                "the target portfolio as defined by the `target_fraction` attributes of its\n",
                "`Holding`s.\n",
                "\n",
                "This target portfolio can be extracted with the `target_portfolio()` method."
            ]
        },
        {
            "cell_type": "code",
            "execution_count": 15,
            "metadata": {},
            "outputs": [
                {
                    "name": "stdout",
                    "output_type": "stream",
                    "text": [
                        "Description                       Units    Value Target ISIN         Date\n",
                        "------------------------------ -------- -------- ------ ------------ ----------\n",
                        "FTSE Global All Cap Index Fund   0.9238   159.02 0.6000 GB00BD3RZ582 2022-11-21\n",
                        "U.K. Gilt UCITS ETF (VGOV)       5.7059   106.02 0.4000 IE00B42WWV65 2022-11-21\n"
                    ]
                }
            ],
            "source": [
                "print(pf.target_portfolio())"
            ]
        },
        {
            "cell_type": "markdown",
            "metadata": {},
            "source": [
                "The trades required to reach the target portfolio can be calculated using the\n",
                "`trade_to_target()` method."
            ]
        },
        {
            "cell_type": "code",
            "execution_count": 16,
            "metadata": {},
            "outputs": [
                {
                    "name": "stdout",
                    "output_type": "stream",
                    "text": [
                        "Buy:\n",
                        "=====\n",
                        "Description                       Units    Value Target ISIN         Date\n",
                        "------------------------------ -------- -------- ------ ------------ ----------\n",
                        "U.K. Gilt UCITS ETF (VGOV)       0.7059    13.12 0.4000 IE00B42WWV65 2022-11-21\n",
                        "\n",
                        "Sell:\n",
                        "=====\n",
                        "Description                       Units    Value Target ISIN         Date\n",
                        "------------------------------ -------- -------- ------ ------------ ----------\n",
                        "FTSE Global All Cap Index Fund   0.0762    13.12 0.6000 GB00BD3RZ582 2022-11-21\n"
                    ]
                }
            ],
            "source": [
                "buy, sell = pf.trade_to_target()\n",
                "print(\"Buy:\\n=====\", buy, \"\\nSell:\\n=====\", sell, sep = \"\\n\")"
            ]
        },
        {
            "cell_type": "markdown",
            "metadata": {},
            "source": [
                "We can generate buying instructions when we want to add new money to the \n",
                "portfolio by first making a dummy cash holding, and pretending to \"sell\" it.\n",
                "\n",
                "To avoid making changes to the original portfolio, we must make a deep copy."
            ]
        },
        {
            "cell_type": "code",
            "execution_count": 17,
            "metadata": {},
            "outputs": [
                {
                    "name": "stdout",
                    "output_type": "stream",
                    "text": [
                        "Description                       Units    Value Target ISIN         Date\n",
                        "------------------------------ -------- -------- ------ ------------ ----------\n",
                        "FTSE Global All Cap Index Fund   1.0000   172.14 0.6000 GB00BD3RZ582 2022-11-21\n",
                        "U.K. Gilt UCITS ETF (VGOV)       5.0000    92.90 0.4000 IE00B42WWV65 2022-11-21\n",
                        "Cash                           100.0000   100.00 0.0000 None         2022-11-22\n"
                    ]
                }
            ],
            "source": [
                "cash = lisatools.Fund(\"Cash\")\n",
                "cash_holding = lisatools.Holding(cash, units = 100)\n",
                "new_pf = copy.deepcopy(pf)\n",
                "new_pf.append(cash_holding)\n",
                "print(new_pf)"
            ]
        },
        {
            "cell_type": "markdown",
            "metadata": {},
            "source": [
                "Note that the dummy cash holding has its last-updated date set to today."
            ]
        },
        {
            "cell_type": "code",
            "execution_count": 18,
            "metadata": {},
            "outputs": [
                {
                    "name": "stdout",
                    "output_type": "stream",
                    "text": [
                        "Buy:\n",
                        "=====\n",
                        "Description                       Units    Value Target ISIN         Date\n",
                        "------------------------------ -------- -------- ------ ------------ ----------\n",
                        "FTSE Global All Cap Index Fund   0.2724    46.88 0.6000 GB00BD3RZ582 2022-11-21\n",
                        "U.K. Gilt UCITS ETF (VGOV)       2.8588    53.12 0.4000 IE00B42WWV65 2022-11-21\n",
                        "\n",
                        "Sell:\n",
                        "=====\n",
                        "Description                       Units    Value Target ISIN         Date\n",
                        "------------------------------ -------- -------- ------ ------------ ----------\n",
                        "Cash                           100.0000   100.00 0.0000 None         2022-11-22\n"
                    ]
                }
            ],
            "source": [
                "buy, sell = new_pf.trade_to_target()\n",
                "print(\"Buy:\\n=====\", buy, \"\\nSell:\\n=====\", sell, sep = \"\\n\")"
            ]
        }
    ],
    "metadata": {
        "kernelspec": {
            "display_name": "Python 3.9.13",
            "language": "python",
            "name": "python3"
        },
        "language_info": {
            "codemirror_mode": {
                "name": "ipython",
                "version": 3
            },
            "file_extension": ".py",
            "mimetype": "text/x-python",
            "name": "python",
            "nbconvert_exporter": "python",
            "pygments_lexer": "ipython3",
            "version": "3.9.13"
        },
        "vscode": {
            "interpreter": {
                "hash": "6ebe685a3bc68d98db487b024d6f30eb51004ce63c08af7039d3e91af979b2d8"
            }
        }
    },
    "nbformat": 4,
    "nbformat_minor": 4
}
