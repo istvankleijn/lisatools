{
    "cells": [
        {
            "cell_type": "markdown",
            "metadata": {},
            "source": [
                "# Example usage\n",
                "\n",
                "To use `lisatools` in a project:"
            ]
        },
        {
            "cell_type": "code",
            "execution_count": 2,
            "metadata": {},
            "outputs": [],
            "source": [
                "from lisatools import fund, portfolio"
            ]
        },
        {
            "cell_type": "markdown",
            "metadata": {},
            "source": [
                "The total value of a holding is equal to the number of units held times the unit price."
            ]
        },
        {
            "cell_type": "code",
            "execution_count": 3,
            "metadata": {},
            "outputs": [
                {
                    "data": {
                        "text/plain": [
                            "6.0"
                        ]
                    },
                    "execution_count": 3,
                    "metadata": {},
                    "output_type": "execute_result"
                }
            ],
            "source": [
                "f = fund.Fund(price = 2.0)\n",
                "h = portfolio.Holding(f, units = 3.0)\n",
                "\n",
                "h.value()"
            ]
        }
    ],
    "metadata": {
        "kernelspec": {
            "display_name": "Python 3.9.13",
            "language": "python",
            "name": "python3"
        },
        "language_info": {
            "codemirror_mode": {
                "name": "ipython",
                "version": 3
            },
            "file_extension": ".py",
            "mimetype": "text/x-python",
            "name": "python",
            "nbconvert_exporter": "python",
            "pygments_lexer": "ipython3",
            "version": "3.9.13"
        },
        "vscode": {
            "interpreter": {
                "hash": "6ebe685a3bc68d98db487b024d6f30eb51004ce63c08af7039d3e91af979b2d8"
            }
        }
    },
    "nbformat": 4,
    "nbformat_minor": 4
}
