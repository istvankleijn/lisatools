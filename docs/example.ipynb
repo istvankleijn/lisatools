{
    "cells": [
        {
            "cell_type": "markdown",
            "metadata": {},
            "source": [
                "# Example usage\n",
                "\n",
                "To use `lisatools` in a project:"
            ]
        },
        {
            "cell_type": "code",
            "execution_count": 1,
            "metadata": {},
            "outputs": [],
            "source": [
                "import lisatools"
            ]
        },
        {
            "cell_type": "markdown",
            "metadata": {},
            "source": [
                "Standard library packages required to run this notebook:"
            ]
        },
        {
            "cell_type": "code",
            "execution_count": 2,
            "metadata": {},
            "outputs": [],
            "source": [
                "import copy\n",
                "import datetime"
            ]
        },
        {
            "cell_type": "markdown",
            "metadata": {},
            "source": [
                "## The `Fund` and `Portfolio` classes"
            ]
        },
        {
            "cell_type": "markdown",
            "metadata": {},
            "source": [
                "The `Fund` class stores general details about funds, such as their unique\n",
                "ISIN identifier, the price, and the date the price was last updated."
            ]
        },
        {
            "cell_type": "code",
            "execution_count": 3,
            "metadata": {},
            "outputs": [
                {
                    "name": "stdout",
                    "output_type": "stream",
                    "text": [
                        "Fund('FTSE Global All Cap Index Fund', 172.14, date=datetime.date(2022, 11, 21), isin='GB00BD3RZ582')\n"
                    ]
                }
            ],
            "source": [
                "ftse_global = lisatools.Fund(\n",
                "    \"FTSE Global All Cap Index Fund\",\n",
                "    172.14,\n",
                "    isin=\"GB00BD3RZ582\",\n",
                "    date=datetime.date(2022, 11, 21)\n",
                ")\n",
                "print(ftse_global)"
            ]
        },
        {
            "cell_type": "markdown",
            "metadata": {},
            "source": [
                "An `ETF` subclass exists for exchange-traded funds, which additionally have a ticker symbol."
            ]
        },
        {
            "cell_type": "code",
            "execution_count": 4,
            "metadata": {},
            "outputs": [
                {
                    "name": "stdout",
                    "output_type": "stream",
                    "text": [
                        "ETF('U.K. Gilt UCITS ETF', 18.58, date=datetime.date(2022, 11, 21), isin='IE00B42WWV65', ticker='VGOV')\n"
                    ]
                }
            ],
            "source": [
                "gilts = lisatools.ETF(\n",
                "    \"U.K. Gilt UCITS ETF\",\n",
                "    18.58,\n",
                "    ticker=\"VGOV\",\n",
                "    isin=\"IE00B42WWV65\",\n",
                "    date=datetime.date(2022, 11, 21)\n",
                ")\n",
                "print(gilts)"
            ]
        },
        {
            "cell_type": "markdown",
            "metadata": {},
            "source": [
                "The `Portfolio` class represents the funds actually being held. Each line item\n",
                "in the portfolio is represented as a `Holding`, and stores the fund details,\n",
                "the number of units held, and the target allocation fraction."
            ]
        },
        {
            "cell_type": "code",
            "execution_count": 5,
            "metadata": {},
            "outputs": [
                {
                    "name": "stdout",
                    "output_type": "stream",
                    "text": [
                        "Description                       Units    Value Target ISIN         Date\n",
                        "------------------------------ -------- -------- ------ ------------ ----------\n",
                        "FTSE Global All Cap Index Fund   1.0000   172.14 0.6000 GB00BD3RZ582 2022-11-21\n",
                        "VGOV: U.K. Gilt UCITS ETF        5.0000    92.90 0.4000 IE00B42WWV65 2022-11-21\n"
                    ]
                }
            ],
            "source": [
                "holding1 = lisatools.Holding(ftse_global, 1.0, 0.6)\n",
                "holding2 = lisatools.Holding(gilts, 5.0, 0.4)\n",
                "pf = lisatools.Portfolio([holding1, holding2])\n",
                "print(pf)"
            ]
        },
        {
            "cell_type": "markdown",
            "metadata": {},
            "source": [
                "The total value of a holding is equal to the number of units held times the unit price."
            ]
        },
        {
            "cell_type": "code",
            "execution_count": 6,
            "metadata": {},
            "outputs": [
                {
                    "data": {
                        "text/plain": [
                            "6.0"
                        ]
                    },
                    "execution_count": 6,
                    "metadata": {},
                    "output_type": "execute_result"
                }
            ],
            "source": [
                "f = lisatools.Fund(price = 2.0)\n",
                "h = lisatools.Holding(f, units = 3.0)\n",
                "\n",
                "h.value()"
            ]
        },
        {
            "cell_type": "markdown",
            "metadata": {},
            "source": [
                "## Price updates using scraped FT data"
            ]
        },
        {
            "cell_type": "markdown",
            "metadata": {},
            "source": [
                "So far, the pricing data has been provided manually. The `scraping` module provides tools to scrape the latest pricing data from the Financial Times' web site. This can be used to update all the prices in a `Portfolio` to the latest ones available:"
            ]
        },
        {
            "cell_type": "code",
            "execution_count": 7,
            "metadata": {},
            "outputs": [
                {
                    "name": "stdout",
                    "output_type": "stream",
                    "text": [
                        "Description                       Units    Value Target ISIN         Date\n",
                        "------------------------------ -------- -------- ------ ------------ ----------\n",
                        "FTSE Global All Cap Index Fund   1.0000   171.69 0.6000 GB00BD3RZ582 2022-11-25\n",
                        "VGOV: U.K. Gilt UCITS ETF        5.0000    92.25 0.4000 IE00B42WWV65 2022-11-28\n"
                    ]
                }
            ],
            "source": [
                "pf.update_prices()\n",
                "print(pf)"
            ]
        },
        {
            "cell_type": "markdown",
            "metadata": {},
            "source": [
                "## Trading and the target portfolio"
            ]
        },
        {
            "cell_type": "markdown",
            "metadata": {},
            "source": [
                "The example portfolio above requires some trades to be made in order to reach\n",
                "the target portfolio as defined by the `target_fraction` attributes of its\n",
                "`Holding`s.\n",
                "\n",
                "This target portfolio can be extracted with the `target_portfolio()` method."
            ]
        },
        {
            "cell_type": "code",
            "execution_count": 8,
            "metadata": {},
            "outputs": [
                {
                    "name": "stdout",
                    "output_type": "stream",
                    "text": [
                        "Description                       Units    Value Target ISIN         Date\n",
                        "------------------------------ -------- -------- ------ ------------ ----------\n",
                        "FTSE Global All Cap Index Fund   0.9224   158.36 0.6000 GB00BD3RZ582 2022-11-25\n",
                        "VGOV: U.K. Gilt UCITS ETF        5.7223   105.58 0.4000 IE00B42WWV65 2022-11-28\n"
                    ]
                }
            ],
            "source": [
                "print(pf.target_portfolio())"
            ]
        },
        {
            "cell_type": "markdown",
            "metadata": {},
            "source": [
                "The trades required to reach the target portfolio can be calculated using the\n",
                "`trade_to_target()` method."
            ]
        },
        {
            "cell_type": "code",
            "execution_count": 9,
            "metadata": {},
            "outputs": [
                {
                    "name": "stdout",
                    "output_type": "stream",
                    "text": [
                        "Buy:\n",
                        "=====\n",
                        "Description                       Units    Value Target ISIN         Date\n",
                        "------------------------------ -------- -------- ------ ------------ ----------\n",
                        "VGOV: U.K. Gilt UCITS ETF        0.7223    13.33 0.4000 IE00B42WWV65 2022-11-28\n",
                        "\n",
                        "Sell:\n",
                        "=====\n",
                        "Description                       Units    Value Target ISIN         Date\n",
                        "------------------------------ -------- -------- ------ ------------ ----------\n",
                        "FTSE Global All Cap Index Fund   0.0776    13.33 0.6000 GB00BD3RZ582 2022-11-25\n"
                    ]
                }
            ],
            "source": [
                "buy, sell = pf.trade_to_target()\n",
                "print(\"Buy:\\n=====\", buy, \"\\nSell:\\n=====\", sell, sep = \"\\n\")"
            ]
        },
        {
            "cell_type": "markdown",
            "metadata": {},
            "source": [
                "We can generate buying instructions when we want to add new money to the \n",
                "portfolio by first making a dummy cash holding, and pretending to \"sell\" it.\n",
                "\n",
                "To avoid making changes to the original portfolio, we must make a deep copy."
            ]
        },
        {
            "cell_type": "code",
            "execution_count": 10,
            "metadata": {},
            "outputs": [
                {
                    "name": "stdout",
                    "output_type": "stream",
                    "text": [
                        "Description                       Units    Value Target ISIN         Date\n",
                        "------------------------------ -------- -------- ------ ------------ ----------\n",
                        "FTSE Global All Cap Index Fund   1.0000   171.69 0.6000 GB00BD3RZ582 2022-11-25\n",
                        "VGOV: U.K. Gilt UCITS ETF        5.0000    92.25 0.4000 IE00B42WWV65 2022-11-28\n",
                        "Cash                           100.0000   100.00 0.0000 None         2022-11-28\n"
                    ]
                }
            ],
            "source": [
                "cash = lisatools.Fund(\"Cash\")\n",
                "cash_holding = lisatools.Holding(cash, units = 100)\n",
                "new_pf = copy.deepcopy(pf)\n",
                "new_pf.append(cash_holding)\n",
                "print(new_pf)"
            ]
        },
        {
            "cell_type": "markdown",
            "metadata": {},
            "source": [
                "Note that the dummy cash holding has its last-updated date set to today."
            ]
        },
        {
            "cell_type": "code",
            "execution_count": 11,
            "metadata": {},
            "outputs": [
                {
                    "name": "stdout",
                    "output_type": "stream",
                    "text": [
                        "Buy:\n",
                        "=====\n",
                        "Description                       Units    Value Target ISIN         Date\n",
                        "------------------------------ -------- -------- ------ ------------ ----------\n",
                        "FTSE Global All Cap Index Fund   0.2719    46.67 0.6000 GB00BD3RZ582 2022-11-25\n",
                        "VGOV: U.K. Gilt UCITS ETF        2.8903    53.33 0.4000 IE00B42WWV65 2022-11-28\n",
                        "\n",
                        "Sell:\n",
                        "=====\n",
                        "Description                       Units    Value Target ISIN         Date\n",
                        "------------------------------ -------- -------- ------ ------------ ----------\n",
                        "Cash                           100.0000   100.00 0.0000 None         2022-11-28\n"
                    ]
                }
            ],
            "source": [
                "buy, sell = new_pf.trade_to_target()\n",
                "print(\"Buy:\\n=====\", buy, \"\\nSell:\\n=====\", sell, sep = \"\\n\")"
            ]
        }
    ],
    "metadata": {
        "kernelspec": {
            "display_name": "Python 3.9.13",
            "language": "python",
            "name": "python3"
        },
        "language_info": {
            "codemirror_mode": {
                "name": "ipython",
                "version": 3
            },
            "file_extension": ".py",
            "mimetype": "text/x-python",
            "name": "python",
            "nbconvert_exporter": "python",
            "pygments_lexer": "ipython3",
            "version": "3.9.15"
        },
        "vscode": {
            "interpreter": {
                "hash": "6ebe685a3bc68d98db487b024d6f30eb51004ce63c08af7039d3e91af979b2d8"
            }
        }
    },
    "nbformat": 4,
    "nbformat_minor": 4
}
